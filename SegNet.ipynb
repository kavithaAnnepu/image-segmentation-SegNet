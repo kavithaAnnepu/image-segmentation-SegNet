{
  "nbformat": 4,
  "nbformat_minor": 0,
  "metadata": {
    "colab": {
      "name": "SegNet.ipynb",
      "provenance": [],
      "collapsed_sections": []
    },
    "kernelspec": {
      "name": "python3",
      "display_name": "Python 3"
    },
    "language_info": {
      "name": "python"
    },
    "accelerator": "GPU",
    "gpuClass": "standard"
  },
  "cells": [
    {
      "cell_type": "code",
      "execution_count": 1,
      "metadata": {
        "id": "-DN2rMuiJVzG"
      },
      "outputs": [],
      "source": [
        "##importing libraries\n",
        "import torch\n",
        "import torchvision\n",
        "import torch.nn as nn\n",
        "import torchvision.transforms.functional as TF\n",
        "import torchvision.transforms as transforms\n",
        "import os\n",
        "from PIL import Image\n",
        "from torch.utils.data import Dataset, DataLoader\n",
        "import numpy as np\n",
        "import albumentations as A\n",
        "import matplotlib.pyplot as plt\n",
        "#from albumentations.pytorch import ToTensorV2\n",
        "from tqdm import tqdm\n",
        "import torch.optim as optim\n",
        "from numba import cuda\n",
        "from torch.nn import functional as F "
      ]
    },
    {
      "cell_type": "code",
      "source": [
        "from google.colab import drive\n",
        "drive.mount('/content/drive')"
      ],
      "metadata": {
        "colab": {
          "base_uri": "https://localhost:8080/"
        },
        "id": "JP4kCYn7JfaV",
        "outputId": "7605528d-353e-4d13-b4a0-d3fc2965e775"
      },
      "execution_count": 2,
      "outputs": [
        {
          "output_type": "stream",
          "name": "stdout",
          "text": [
            "Mounted at /content/drive\n"
          ]
        }
      ]
    },
    {
      "cell_type": "code",
      "source": [
        "DEVICE = \"cuda\" if torch.cuda.is_available() else \"cpu\"\n",
        "#DEVICE = \"cpu\"\n",
        "print(DEVICE)\n",
        "image_dir = \"/content/drive/MyDrive/DRIVE-Seg/DRIVE-Seg/train/image\"\n",
        "label_dir = \"/content/drive/MyDrive/DRIVE-Seg/DRIVE-Seg/train/label\"\n",
        "t_image_dir=\"/content/drive/MyDrive/DRIVE-Seg/DRIVE-Seg/test/image\"\n",
        "t_label_dir=\"/content/drive/MyDrive/DRIVE-Seg/DRIVE-Seg/test/label\"\n"
      ],
      "metadata": {
        "colab": {
          "base_uri": "https://localhost:8080/"
        },
        "id": "5D0KPoi4JovY",
        "outputId": "231710b1-0bf9-4666-983a-c42ba6e77e47"
      },
      "execution_count": null,
      "outputs": [
        {
          "output_type": "stream",
          "name": "stdout",
          "text": [
            "cuda\n"
          ]
        }
      ]
    },
    {
      "cell_type": "code",
      "source": [
        "class Devseg_data(Dataset):\n",
        "    def __init__(self, image_dir, label_dir, transform = None):\n",
        "        self.image_dir = image_dir\n",
        "        self.label_dir = label_dir\n",
        "        self.transform = transform\n",
        "        self.images = os.listdir(image_dir)\n",
        "        self.labels = os.listdir(label_dir)\n",
        "    \n",
        "    def __len__(self):\n",
        "        return len(self.images)\n",
        "    \n",
        "    def __getitem__(self, index):\n",
        "        img_path = os.path.join(self.image_dir,self.images[index])\n",
        "        label_path = os.path.join(self.label_dir, self.labels[index])\n",
        "        image = Image.open(img_path)\n",
        "        label  = Image.open(label_path)\n",
        "        \n",
        "        if self.transform is not None:\n",
        "           image = self.transform(image)\n",
        "           label = self.transform(label)\n",
        "            \n",
        "        return image, label"
      ],
      "metadata": {
        "id": "DHCPUXSQKX27"
      },
      "execution_count": null,
      "outputs": []
    },
    {
      "cell_type": "code",
      "source": [
        "class Devseg_data1(Dataset):\n",
        "    def __init__(self, t_image_dir, t_label_dir, transform = None):\n",
        "        self.t_image_dir = t_image_dir\n",
        "        self.t_label_dir = t_label_dir\n",
        "        self.transform = transform\n",
        "        self.images = os.listdir(t_image_dir)\n",
        "        self.labels = os.listdir(t_label_dir)\n",
        "    \n",
        "    def __len__(self):\n",
        "        return len(self.images)\n",
        "    \n",
        "    def __getitem__(self, index):\n",
        "        t_img_path = os.path.join(self.t_image_dir,self.images[index])\n",
        "        t_label_path = os.path.join(self.t_label_dir, self.labels[index])\n",
        "        image = Image.open(t_img_path)\n",
        "        #image = np.rollaxis(image,2,0)\n",
        "        label  = Image.open(t_label_path)\n",
        "        \n",
        "        if self.transform is not None:\n",
        "            image = self.transform(image)\n",
        "            label = self.transform(label)\n",
        "            \n",
        "        return image, label"
      ],
      "metadata": {
        "id": "LgyJP2OSKdrn"
      },
      "execution_count": null,
      "outputs": []
    },
    {
      "cell_type": "code",
      "source": [
        "def get_loaders(\n",
        "    image_dir,\n",
        "    label_dir,\n",
        "    t_image_dir,\n",
        "    t_label_dir,\n",
        "    batch_size,\n",
        "    transform,\n",
        "    num_workers = 0,\n",
        "    pin_memory = True):\n",
        "\n",
        "    dataset = Devseg_data(\n",
        "        image_dir = image_dir,\n",
        "        label_dir=label_dir,\n",
        "        transform=transform)\n",
        "    t_dataset = Devseg_data1(\n",
        "        t_image_dir = t_image_dir,\n",
        "        t_label_dir=t_label_dir,\n",
        "        transform=transform)\n",
        "    train_size = int(1.0*len(dataset))\n",
        "    val_size = int(1.0*len(t_dataset))\n",
        "    print(f\"Train size = {train_size}\")\n",
        "    print(f\"Val size = {val_size}\")\n",
        "    train_ds=train_size\n",
        "    val_ds=val_size\n",
        "    train_loader = DataLoader(\n",
        "            dataset,\n",
        "            batch_size=batch_size,\n",
        "            num_workers=num_workers,\n",
        "            pin_memory=pin_memory,\n",
        "            )\n",
        "    \n",
        "    val_loader = DataLoader(\n",
        "            t_dataset,\n",
        "            batch_size=batch_size,\n",
        "            num_workers=num_workers,\n",
        "            pin_memory=pin_memory,\n",
        "            )\n",
        "    \n",
        "    return dataset,t_dataset,train_loader, val_loader"
      ],
      "metadata": {
        "id": "3Asadi7dKg2d"
      },
      "execution_count": null,
      "outputs": []
    },
    {
      "cell_type": "code",
      "source": [
        "class SegNet(nn.Module):\n",
        "\tdef __init__(self):\n",
        "\t\tsuper(SegNet, self).__init__()\n",
        "\n",
        "\t\t#SegNet Architecture\n",
        "\t\t#Takes input of size in_chn = 3 (RGB images have 3 channels)\n",
        "\t\t#Outputs size label_chn =1\n",
        "\n",
        "\t\t#ENCODING consists of 5 stages\n",
        "\t\t#Stage 1, 2 has 2 layers of Convolution + Batch Normalization + Max Pool respectively\n",
        "\t\t#Stage 3, 4, 5 has 3 layers of Convolution + Batch Normalization + Max Pool respectively\n",
        "\n",
        "\t\t#General Max Pool 2D for ENCODING layers\n",
        "\t\t#Pooling indices are stored for Upsampling in DECODING layers\n",
        "\t\tself.in_chn =3\n",
        "\t\tself.out_chn = 1\n",
        "\n",
        "\t\tself.MaxEn = nn.MaxPool2d(2, stride=2, return_indices=True)\n",
        "\t\tbatchNorm_momentum = 0.1\n",
        "\t\t\n",
        "\n",
        "\t\tself.ConvEn11 = nn.Conv2d(self.in_chn, 64, kernel_size=3, padding=1)\n",
        "\t\tself.BNEn11 = nn.BatchNorm2d(64, momentum=batchNorm_momentum)\n",
        "\t\tself.ConvEn12 = nn.Conv2d(64, 64, kernel_size=3, padding=1)\n",
        "\t\tself.BNEn12 = nn.BatchNorm2d(64, momentum=batchNorm_momentum)\n",
        "\n",
        "\t\tself.ConvEn21 = nn.Conv2d(64, 128, kernel_size=3, padding=1)\n",
        "\t\tself.BNEn21 = nn.BatchNorm2d(128, momentum=batchNorm_momentum)\n",
        "\t\tself.ConvEn22 = nn.Conv2d(128, 128, kernel_size=3, padding=1)\n",
        "\t\tself.BNEn22 = nn.BatchNorm2d(128, momentum=batchNorm_momentum)\n",
        "\n",
        "\t\tself.ConvEn31 = nn.Conv2d(128, 256, kernel_size=3, padding=1)\n",
        "\t\tself.BNEn31 = nn.BatchNorm2d(256, momentum=batchNorm_momentum)\n",
        "\t\tself.ConvEn32 = nn.Conv2d(256, 256, kernel_size=3, padding=1)\n",
        "\t\tself.BNEn32 = nn.BatchNorm2d(256, momentum=batchNorm_momentum)\n",
        "\t\tself.ConvEn33 = nn.Conv2d(256, 256, kernel_size=3, padding=1)\n",
        "\t\tself.BNEn33 = nn.BatchNorm2d(256, momentum=batchNorm_momentum)\n",
        "\n",
        "\t\tself.ConvEn41 = nn.Conv2d(256, 512, kernel_size=3, padding=1)\n",
        "\t\tself.BNEn41 = nn.BatchNorm2d(512, momentum=batchNorm_momentum)\n",
        "\t\tself.ConvEn42 = nn.Conv2d(512, 512, kernel_size=3, padding=1)\n",
        "\t\tself.BNEn42 = nn.BatchNorm2d(512, momentum=batchNorm_momentum)\n",
        "\t\tself.ConvEn43 = nn.Conv2d(512, 512, kernel_size=3, padding=1)\n",
        "\t\tself.BNEn43 = nn.BatchNorm2d(512, momentum=batchNorm_momentum)\n",
        "\n",
        "\t\tself.ConvEn51 = nn.Conv2d(512, 512, kernel_size=3, padding=1)\n",
        "\t\tself.BNEn51 = nn.BatchNorm2d(512, momentum=batchNorm_momentum)\n",
        "\t\tself.ConvEn52 = nn.Conv2d(512, 512, kernel_size=3, padding=1)\n",
        "\t\tself.BNEn52 = nn.BatchNorm2d(512, momentum=batchNorm_momentum)\n",
        "\t\tself.ConvEn53 = nn.Conv2d(512, 512, kernel_size=3, padding=1)\n",
        "\t\tself.BNEn53 = nn.BatchNorm2d(512, momentum=batchNorm_momentum)\n",
        "\n",
        "\n",
        "\t\t#DECODING consists of 5 stages\n",
        "\t\t#Each stage corresponds to their respective counterparts in ENCODING\n",
        "\n",
        "\t\t#General Max Pool 2D/Upsampling for DECODING layers\n",
        "\t\tself.MaxDe = nn.MaxUnpool2d(2, stride=2) \n",
        "\n",
        "\t\tself.ConvDe53 = nn.Conv2d(512, 512, kernel_size=3, padding=1)\n",
        "\t\tself.BNDe53 = nn.BatchNorm2d(512, momentum=batchNorm_momentum)\n",
        "\t\tself.ConvDe52 = nn.Conv2d(512, 512, kernel_size=3, padding=1)\n",
        "\t\tself.BNDe52 = nn.BatchNorm2d(512, momentum=batchNorm_momentum)\n",
        "\t\tself.ConvDe51 = nn.Conv2d(512, 512, kernel_size=3, padding=1)\n",
        "\t\tself.BNDe51 = nn.BatchNorm2d(512, momentum=batchNorm_momentum)\n",
        "\n",
        "\t\tself.ConvDe43 = nn.Conv2d(512, 512, kernel_size=3, padding=1)\n",
        "\t\tself.BNDe43 = nn.BatchNorm2d(512, momentum=batchNorm_momentum)\n",
        "\t\tself.ConvDe42 = nn.Conv2d(512, 512, kernel_size=3, padding=1)\n",
        "\t\tself.BNDe42 = nn.BatchNorm2d(512, momentum=batchNorm_momentum)\n",
        "\t\tself.ConvDe41 = nn.Conv2d(512, 256, kernel_size=3, padding=1)\n",
        "\t\tself.BNDe41 = nn.BatchNorm2d(256, momentum=batchNorm_momentum)\n",
        "\n",
        "\t\tself.ConvDe33 = nn.Conv2d(256, 256, kernel_size=3, padding=1)\n",
        "\t\tself.BNDe33 = nn.BatchNorm2d(256, momentum=batchNorm_momentum)\n",
        "\t\tself.ConvDe32 = nn.Conv2d(256, 256, kernel_size=3, padding=1)\n",
        "\t\tself.BNDe32 = nn.BatchNorm2d(256, momentum=batchNorm_momentum)\n",
        "\t\tself.ConvDe31 = nn.Conv2d(256, 128, kernel_size=3, padding=1)\n",
        "\t\tself.BNDe31 = nn.BatchNorm2d(128, momentum=batchNorm_momentum)\n",
        "\n",
        "\t\tself.ConvDe22 = nn.Conv2d(128, 128, kernel_size=3, padding=1)\n",
        "\t\tself.BNDe22 = nn.BatchNorm2d(128, momentum=batchNorm_momentum)\n",
        "\t\tself.ConvDe21 = nn.Conv2d(128, 64, kernel_size=3, padding=1)\n",
        "\t\tself.BNDe21 = nn.BatchNorm2d(64, momentum=batchNorm_momentum)\n",
        "\n",
        "\t\tself.ConvDe12 = nn.Conv2d(64, 64, kernel_size=3, padding=1)\n",
        "\t\tself.BNDe12 = nn.BatchNorm2d(64, momentum=batchNorm_momentum)\n",
        "\t\tself.ConvDe11 = nn.Conv2d(64, self.out_chn, kernel_size=3, padding=1)\n",
        "\n",
        "\tdef forward(self, x):\n",
        "\n",
        "\t\t#ENCODE LAYERS\n",
        "\t\t#Stage 1\n",
        "\t\tx = F.relu(self.BNEn11(self.ConvEn11(x))) \n",
        "\t\tx = F.relu(self.BNEn12(self.ConvEn12(x))) \n",
        "\t\tx, ind1 = self.MaxEn(x)\n",
        "\t\tsize1 = x.size()\n",
        "\n",
        "\t\t#Stage 2\n",
        "\t\tx = F.relu(self.BNEn21(self.ConvEn21(x))) \n",
        "\t\tx = F.relu(self.BNEn22(self.ConvEn22(x))) \n",
        "\t\tx, ind2 = self.MaxEn(x)\n",
        "\t\tsize2 = x.size()\n",
        "\n",
        "\t\t#Stage 3\n",
        "\t\tx = F.relu(self.BNEn31(self.ConvEn31(x))) \n",
        "\t\tx = F.relu(self.BNEn32(self.ConvEn32(x))) \n",
        "\t\tx = F.relu(self.BNEn33(self.ConvEn33(x))) \t\n",
        "\t\tx, ind3 = self.MaxEn(x)\n",
        "\t\tsize3 = x.size()\n",
        "\n",
        "\t\t#Stage 4\n",
        "\t\tx = F.relu(self.BNEn41(self.ConvEn41(x))) \n",
        "\t\tx = F.relu(self.BNEn42(self.ConvEn42(x))) \n",
        "\t\tx = F.relu(self.BNEn43(self.ConvEn43(x))) \t\n",
        "\t\tx, ind4 = self.MaxEn(x)\n",
        "\t\tsize4 = x.size()\n",
        "\n",
        "\t\t#Stage 5\n",
        "\t\tx = F.relu(self.BNEn51(self.ConvEn51(x))) \n",
        "\t\tx = F.relu(self.BNEn52(self.ConvEn52(x))) \n",
        "\t\tx = F.relu(self.BNEn53(self.ConvEn53(x))) \t\n",
        "\t\tx, ind5 = self.MaxEn(x)\n",
        "\t\tsize5 = x.size()\n",
        "\n",
        "\t\t#DECODE LAYERS\n",
        "\t\t#Stage 5\n",
        "\t\tx = self.MaxDe(x, ind5, output_size=size4)\n",
        "\t\tx = F.relu(self.BNDe53(self.ConvDe53(x)))\n",
        "\t\tx = F.relu(self.BNDe52(self.ConvDe52(x)))\n",
        "\t\tx = F.relu(self.BNDe51(self.ConvDe51(x)))\n",
        "\n",
        "\t\t#Stage 4\n",
        "\t\tx = self.MaxDe(x, ind4, output_size=size3)\n",
        "\t\tx = F.relu(self.BNDe43(self.ConvDe43(x)))\n",
        "\t\tx = F.relu(self.BNDe42(self.ConvDe42(x)))\n",
        "\t\tx = F.relu(self.BNDe41(self.ConvDe41(x)))\n",
        "\n",
        "\t\t#Stage 3\n",
        "\t\tx = self.MaxDe(x, ind3, output_size=size2)\n",
        "\t\tx = F.relu(self.BNDe33(self.ConvDe33(x)))\n",
        "\t\tx = F.relu(self.BNDe32(self.ConvDe32(x)))\n",
        "\t\tx = F.relu(self.BNDe31(self.ConvDe31(x)))\n",
        "\n",
        "\t\t#Stage 2\n",
        "\t\tx = self.MaxDe(x, ind2, output_size=size1)\n",
        "\t\tx = F.relu(self.BNDe22(self.ConvDe22(x)))\n",
        "\t\tx = F.relu(self.BNDe21(self.ConvDe21(x)))\n",
        "\n",
        "\t\t#Stage 1\n",
        "\t\tx = self.MaxDe(x, ind1)\n",
        "\t\tx = F.relu(self.BNDe12(self.ConvDe12(x)))\n",
        "\t\tx = self.ConvDe11(x)\n",
        "\n",
        "\t\treturn x"
      ],
      "metadata": {
        "id": "Gj0CoHaoKpsb"
      },
      "execution_count": null,
      "outputs": []
    },
    {
      "cell_type": "code",
      "source": [
        "def check_accuracy(loader, model, device = DEVICE):\n",
        "    accuracy_array=[]\n",
        "    num_correct = 0\n",
        "    num_pixels = 0\n",
        "    dice_score = 0\n",
        "    model.eval()\n",
        "    \n",
        "    with torch.no_grad():\n",
        "        for x,y in loader:\n",
        "            x = x.to(device).float()\n",
        "            y = y.to(device).float()\n",
        "            preds = (model(x))\n",
        "            preds = (preds>50).float()\n",
        "            num_correct += torch.sum((preds ==y)*1.0)\n",
        "            num_pixels += torch.numel(preds)\n",
        "    print(\n",
        "        f\"Got {num_correct}/{num_pixels} with acc {num_correct/num_pixels*100:.8f}\")\n",
        "    accuracy_array.append((100*num_correct/num_pixels).item())\n",
        "    print(f\"Accuracy = {accuracy_array}\")      \n",
        "    "
      ],
      "metadata": {
        "id": "LqiGSubmduMW"
      },
      "execution_count": null,
      "outputs": []
    },
    {
      "cell_type": "code",
      "source": [
        "def dice_loss(input, target):\n",
        "    smooth = 1\n",
        "\n",
        "    iflat = input.view(-1)\n",
        "    tflat = target.view(-1)\n",
        "    intersection = (iflat * tflat).sum()\n",
        "    print(f\"Dice score:{1 - ((2. * intersection + smooth)/(iflat.sum() + tflat.sum() + smooth)):.8f}\");\n",
        "    return 1 - ((2. * intersection + smooth)/(iflat.sum() + tflat.sum() + smooth));\n",
        "    #print(f\"Dice loss:{1 - ((2. * intersection + smooth)/(iflat.sum() + tflat.sum() + smooth)):.8f}\");"
      ],
      "metadata": {
        "id": "XpjCvpVtJkLA"
      },
      "execution_count": null,
      "outputs": []
    },
    {
      "cell_type": "code",
      "source": [
        "def train_fn(loader, model, optimizer,criterion):\n",
        "  num_epochs=5\n",
        "  accuracy_array=[]\n",
        "  for epoch in range(num_epochs):\n",
        "    loop = tqdm(loader)\n",
        "    for batch_idx, (data, targets) in enumerate(loop):\n",
        "          data = data.float().to(device=DEVICE)\n",
        "          targets = torch.squeeze(((targets>0.5)*1).to(device=DEVICE))\n",
        "\n",
        "          # forward\n",
        "          with torch.cuda.amp.autocast():\n",
        "              predictions = model(data)\n",
        "              o = torch.cat((predictions,predictions),1)\n",
        "              loss1 = criterion(o, targets)\n",
        "              d=dice_loss(predictions, targets)\n",
        "              #print(f'len:,{targets.size()}:.8f');\n",
        "              #print(f'length:,{predictions.size()}:.8f')\n",
        "              #print(f'lengthhh:,{o.size()}:.8f')\n",
        "              loss=loss1+d\n",
        "          optimizer.zero_grad()\n",
        "          #loss=loss1+d;\n",
        "          loss.backward()\n",
        "          optimizer.step()\n",
        "\n",
        "          loop.set_postfix(loss=loss.item())"
      ],
      "metadata": {
        "id": "ccN2cO56_ZLe"
      },
      "execution_count": null,
      "outputs": []
    },
    {
      "cell_type": "code",
      "source": [
        "def main():\n",
        "  transform=transforms.Compose([transforms.Resize((584,564)),transforms.ToTensor()])\n",
        "  learning_rate = 0.001\n",
        "  num_epochs = 5\n",
        "  BATCH_SIZE=3\n",
        "  NUM_WORKERS=0;\n",
        "  PIN_MEMORY=False\n",
        "  model = SegNet().cuda()\n",
        "  model.train()\n",
        "  criterion = nn.NLLLoss()\n",
        "\n",
        "  optimizer = torch.optim.SGD(model.parameters(), lr = learning_rate)\n",
        "  a,b,train_loader, val_loader = get_loaders(\n",
        "        image_dir,\n",
        "        label_dir,\n",
        "        t_image_dir,\n",
        "        t_label_dir,\n",
        "        BATCH_SIZE,\n",
        "        transform,\n",
        "        NUM_WORKERS,\n",
        "        PIN_MEMORY)\n",
        " # check_accuracy(val_loader,model,device=DEVICE)\n",
        "  for epoch in range(num_epochs):\n",
        "        train_fn(train_loader, model, optimizer,criterion)\n",
        "        check_accuracy(val_loader,model,device=DEVICE)\n"
      ],
      "metadata": {
        "id": "MaHut9wvATj9"
      },
      "execution_count": null,
      "outputs": []
    },
    {
      "cell_type": "code",
      "source": [
        "\n",
        "if __name__ == \"__main__\":\n",
        "    main() "
      ],
      "metadata": {
        "colab": {
          "base_uri": "https://localhost:8080/"
        },
        "id": "FyQouljRCdmS",
        "outputId": "c5a1b907-01e4-478f-e798-bef00c6709ad"
      },
      "execution_count": null,
      "outputs": [
        {
          "output_type": "stream",
          "name": "stdout",
          "text": [
            "Train size = 15\n",
            "Val size = 5\n"
          ]
        },
        {
          "output_type": "stream",
          "name": "stderr",
          "text": [
            "\r  0%|          | 0/5 [00:00<?, ?it/s]/usr/local/lib/python3.7/dist-packages/torch/nn/functional.py:749: UserWarning: Note that order of the arguments: ceil_mode and return_indices will changeto match the args list in nn.MaxPool2d in a future release.\n",
            "  warnings.warn(\"Note that order of the arguments: ceil_mode and return_indices will change\"\n"
          ]
        },
        {
          "output_type": "stream",
          "name": "stdout",
          "text": [
            "Dice score:0.99165666\n"
          ]
        },
        {
          "output_type": "stream",
          "name": "stderr",
          "text": [
            " 40%|████      | 2/5 [00:10<00:15,  5.22s/it, loss=0.7]"
          ]
        },
        {
          "output_type": "stream",
          "name": "stdout",
          "text": [
            "Dice score:0.88331079\n",
            "Dice score:0.87927234\n"
          ]
        },
        {
          "output_type": "stream",
          "name": "stderr",
          "text": [
            " 80%|████████  | 4/5 [00:20<00:05,  5.07s/it, loss=0.508]"
          ]
        },
        {
          "output_type": "stream",
          "name": "stdout",
          "text": [
            "Dice score:0.86976731\n",
            "Dice score:0.86159813\n"
          ]
        },
        {
          "output_type": "stream",
          "name": "stderr",
          "text": [
            "100%|██████████| 5/5 [00:25<00:00,  5.06s/it, loss=0.434]\n",
            " 20%|██        | 1/5 [00:00<00:01,  2.58it/s, loss=0.384]"
          ]
        },
        {
          "output_type": "stream",
          "name": "stdout",
          "text": [
            "Dice score:0.86828327\n"
          ]
        },
        {
          "output_type": "stream",
          "name": "stderr",
          "text": [
            " 40%|████      | 2/5 [00:00<00:01,  2.56it/s, loss=0.271]"
          ]
        },
        {
          "output_type": "stream",
          "name": "stdout",
          "text": [
            "Dice score:0.84889513\n"
          ]
        },
        {
          "output_type": "stream",
          "name": "stderr",
          "text": [
            " 60%|██████    | 3/5 [00:01<00:00,  2.56it/s, loss=0.182]"
          ]
        },
        {
          "output_type": "stream",
          "name": "stdout",
          "text": [
            "Dice score:0.85868484\n"
          ]
        },
        {
          "output_type": "stream",
          "name": "stderr",
          "text": [
            " 80%|████████  | 4/5 [00:01<00:00,  2.55it/s, loss=0.0955]"
          ]
        },
        {
          "output_type": "stream",
          "name": "stdout",
          "text": [
            "Dice score:0.85437816\n"
          ]
        },
        {
          "output_type": "stream",
          "name": "stderr",
          "text": [
            "100%|██████████| 5/5 [00:01<00:00,  2.55it/s, loss=0.025]\n"
          ]
        },
        {
          "output_type": "stream",
          "name": "stdout",
          "text": [
            "Dice score:0.84747350\n"
          ]
        },
        {
          "output_type": "stream",
          "name": "stderr",
          "text": [
            " 20%|██        | 1/5 [00:00<00:01,  2.58it/s, loss=-.0108]"
          ]
        },
        {
          "output_type": "stream",
          "name": "stdout",
          "text": [
            "Dice score:0.85847163\n"
          ]
        },
        {
          "output_type": "stream",
          "name": "stderr",
          "text": [
            " 40%|████      | 2/5 [00:00<00:01,  2.58it/s, loss=-.14]"
          ]
        },
        {
          "output_type": "stream",
          "name": "stdout",
          "text": [
            "Dice score:0.83907443\n"
          ]
        },
        {
          "output_type": "stream",
          "name": "stderr",
          "text": [
            " 60%|██████    | 3/5 [00:01<00:00,  2.57it/s, loss=-.235]"
          ]
        },
        {
          "output_type": "stream",
          "name": "stdout",
          "text": [
            "Dice score:0.85154378\n"
          ]
        },
        {
          "output_type": "stream",
          "name": "stderr",
          "text": [
            " 80%|████████  | 4/5 [00:01<00:00,  2.57it/s, loss=-.322]"
          ]
        },
        {
          "output_type": "stream",
          "name": "stdout",
          "text": [
            "Dice score:0.84684479\n"
          ]
        },
        {
          "output_type": "stream",
          "name": "stderr",
          "text": [
            "100%|██████████| 5/5 [00:01<00:00,  2.56it/s, loss=-.407]\n"
          ]
        },
        {
          "output_type": "stream",
          "name": "stdout",
          "text": [
            "Dice score:0.83933556\n"
          ]
        },
        {
          "output_type": "stream",
          "name": "stderr",
          "text": [
            " 20%|██        | 1/5 [00:00<00:01,  2.53it/s, loss=-.432]"
          ]
        },
        {
          "output_type": "stream",
          "name": "stdout",
          "text": [
            "Dice score:0.85309708\n"
          ]
        },
        {
          "output_type": "stream",
          "name": "stderr",
          "text": [
            " 40%|████      | 2/5 [00:00<00:01,  2.51it/s, loss=-.574]"
          ]
        },
        {
          "output_type": "stream",
          "name": "stdout",
          "text": [
            "Dice score:0.83294022\n"
          ]
        },
        {
          "output_type": "stream",
          "name": "stderr",
          "text": [
            " 60%|██████    | 3/5 [00:01<00:00,  2.53it/s, loss=-.668]"
          ]
        },
        {
          "output_type": "stream",
          "name": "stdout",
          "text": [
            "Dice score:0.84817457\n"
          ]
        },
        {
          "output_type": "stream",
          "name": "stderr",
          "text": [
            " 80%|████████  | 4/5 [00:01<00:00,  2.55it/s, loss=-.759]"
          ]
        },
        {
          "output_type": "stream",
          "name": "stdout",
          "text": [
            "Dice score:0.84173155\n"
          ]
        },
        {
          "output_type": "stream",
          "name": "stderr",
          "text": [
            "100%|██████████| 5/5 [00:01<00:00,  2.53it/s, loss=-.857]\n"
          ]
        },
        {
          "output_type": "stream",
          "name": "stdout",
          "text": [
            "Dice score:0.83402318\n"
          ]
        },
        {
          "output_type": "stream",
          "name": "stderr",
          "text": [
            " 20%|██        | 1/5 [00:00<00:01,  2.59it/s, loss=-.87]"
          ]
        },
        {
          "output_type": "stream",
          "name": "stdout",
          "text": [
            "Dice score:0.84962571\n"
          ]
        },
        {
          "output_type": "stream",
          "name": "stderr",
          "text": [
            " 40%|████      | 2/5 [00:00<00:01,  2.56it/s, loss=-1.02]"
          ]
        },
        {
          "output_type": "stream",
          "name": "stdout",
          "text": [
            "Dice score:0.82939172\n"
          ]
        },
        {
          "output_type": "stream",
          "name": "stderr",
          "text": [
            " 60%|██████    | 3/5 [00:01<00:00,  2.55it/s, loss=-1.11]"
          ]
        },
        {
          "output_type": "stream",
          "name": "stdout",
          "text": [
            "Dice score:0.84598970\n"
          ]
        },
        {
          "output_type": "stream",
          "name": "stderr",
          "text": [
            " 80%|████████  | 4/5 [00:01<00:00,  2.56it/s, loss=-1.21]"
          ]
        },
        {
          "output_type": "stream",
          "name": "stdout",
          "text": [
            "Dice score:0.83818567\n"
          ]
        },
        {
          "output_type": "stream",
          "name": "stderr",
          "text": [
            "100%|██████████| 5/5 [00:01<00:00,  2.56it/s, loss=-1.32]"
          ]
        },
        {
          "output_type": "stream",
          "name": "stdout",
          "text": [
            "Dice score:0.83017403\n"
          ]
        },
        {
          "output_type": "stream",
          "name": "stderr",
          "text": [
            "\n"
          ]
        },
        {
          "output_type": "stream",
          "name": "stdout",
          "text": [
            "Got 1469263.0/1646880 with acc 89.21493530\n",
            "Accuracy = [89.2149429321289]\n"
          ]
        },
        {
          "output_type": "stream",
          "name": "stderr",
          "text": [
            "\r  0%|          | 0/5 [00:00<?, ?it/s]"
          ]
        },
        {
          "output_type": "stream",
          "name": "stdout",
          "text": [
            "Dice score:0.85689485\n"
          ]
        },
        {
          "output_type": "stream",
          "name": "stderr",
          "text": [
            " 40%|████      | 2/5 [00:00<00:01,  2.50it/s, loss=0.196]"
          ]
        },
        {
          "output_type": "stream",
          "name": "stdout",
          "text": [
            "Dice score:0.84264690\n"
          ]
        },
        {
          "output_type": "stream",
          "name": "stderr",
          "text": [
            " 60%|██████    | 3/5 [00:01<00:00,  2.45it/s, loss=0.188]"
          ]
        },
        {
          "output_type": "stream",
          "name": "stdout",
          "text": [
            "Dice score:0.86071706\n"
          ]
        },
        {
          "output_type": "stream",
          "name": "stderr",
          "text": [
            " 80%|████████  | 4/5 [00:01<00:00,  2.42it/s, loss=0.142]"
          ]
        },
        {
          "output_type": "stream",
          "name": "stdout",
          "text": [
            "Dice score:0.84388268\n"
          ]
        },
        {
          "output_type": "stream",
          "name": "stderr",
          "text": [
            "100%|██████████| 5/5 [00:02<00:00,  2.41it/s, loss=0.106]\n"
          ]
        },
        {
          "output_type": "stream",
          "name": "stdout",
          "text": [
            "Dice score:0.83792484\n"
          ]
        },
        {
          "output_type": "stream",
          "name": "stderr",
          "text": [
            " 20%|██        | 1/5 [00:00<00:01,  2.41it/s, loss=0.0838]"
          ]
        },
        {
          "output_type": "stream",
          "name": "stdout",
          "text": [
            "Dice score:0.85350847\n"
          ]
        },
        {
          "output_type": "stream",
          "name": "stderr",
          "text": [
            " 40%|████      | 2/5 [00:00<00:01,  2.44it/s, loss=0.0376]"
          ]
        },
        {
          "output_type": "stream",
          "name": "stdout",
          "text": [
            "Dice score:0.83868498\n"
          ]
        },
        {
          "output_type": "stream",
          "name": "stderr",
          "text": [
            " 60%|██████    | 3/5 [00:01<00:00,  2.41it/s, loss=0.0198]"
          ]
        },
        {
          "output_type": "stream",
          "name": "stdout",
          "text": [
            "Dice score:0.85772848\n"
          ]
        },
        {
          "output_type": "stream",
          "name": "stderr",
          "text": [
            " 80%|████████  | 4/5 [00:01<00:00,  2.41it/s, loss=-.0366]"
          ]
        },
        {
          "output_type": "stream",
          "name": "stdout",
          "text": [
            "Dice score:0.84008265\n"
          ]
        },
        {
          "output_type": "stream",
          "name": "stderr",
          "text": [
            "100%|██████████| 5/5 [00:02<00:00,  2.44it/s, loss=-.0833]\n"
          ]
        },
        {
          "output_type": "stream",
          "name": "stdout",
          "text": [
            "Dice score:0.83400393\n"
          ]
        },
        {
          "output_type": "stream",
          "name": "stderr",
          "text": [
            " 20%|██        | 1/5 [00:00<00:01,  2.68it/s, loss=-.117]"
          ]
        },
        {
          "output_type": "stream",
          "name": "stdout",
          "text": [
            "Dice score:0.85052454\n"
          ]
        },
        {
          "output_type": "stream",
          "name": "stderr",
          "text": [
            " 40%|████      | 2/5 [00:00<00:01,  2.65it/s, loss=-.178]"
          ]
        },
        {
          "output_type": "stream",
          "name": "stdout",
          "text": [
            "Dice score:0.83507043\n"
          ]
        },
        {
          "output_type": "stream",
          "name": "stderr",
          "text": [
            " 60%|██████    | 3/5 [00:01<00:00,  2.64it/s, loss=-.209]"
          ]
        },
        {
          "output_type": "stream",
          "name": "stdout",
          "text": [
            "Dice score:0.85504651\n"
          ]
        },
        {
          "output_type": "stream",
          "name": "stderr",
          "text": [
            " 80%|████████  | 4/5 [00:01<00:00,  2.62it/s, loss=-.286]"
          ]
        },
        {
          "output_type": "stream",
          "name": "stdout",
          "text": [
            "Dice score:0.83663762\n"
          ]
        },
        {
          "output_type": "stream",
          "name": "stderr",
          "text": [
            "100%|██████████| 5/5 [00:01<00:00,  2.62it/s, loss=-.351]\n"
          ]
        },
        {
          "output_type": "stream",
          "name": "stdout",
          "text": [
            "Dice score:0.83039308\n"
          ]
        },
        {
          "output_type": "stream",
          "name": "stderr",
          "text": [
            " 20%|██        | 1/5 [00:00<00:01,  2.62it/s, loss=-.406]"
          ]
        },
        {
          "output_type": "stream",
          "name": "stdout",
          "text": [
            "Dice score:0.84777182\n"
          ]
        },
        {
          "output_type": "stream",
          "name": "stderr",
          "text": [
            " 40%|████      | 2/5 [00:00<00:01,  2.60it/s, loss=-.49]"
          ]
        },
        {
          "output_type": "stream",
          "name": "stdout",
          "text": [
            "Dice score:0.83176178\n"
          ]
        },
        {
          "output_type": "stream",
          "name": "stderr",
          "text": [
            " 60%|██████    | 3/5 [00:01<00:00,  2.60it/s, loss=-.548]"
          ]
        },
        {
          "output_type": "stream",
          "name": "stdout",
          "text": [
            "Dice score:0.85261047\n"
          ]
        },
        {
          "output_type": "stream",
          "name": "stderr",
          "text": [
            " 80%|████████  | 4/5 [00:01<00:00,  2.61it/s, loss=-.658]"
          ]
        },
        {
          "output_type": "stream",
          "name": "stdout",
          "text": [
            "Dice score:0.83351082\n"
          ]
        },
        {
          "output_type": "stream",
          "name": "stderr",
          "text": [
            "100%|██████████| 5/5 [00:01<00:00,  2.60it/s, loss=-.76]\n"
          ]
        },
        {
          "output_type": "stream",
          "name": "stdout",
          "text": [
            "Dice score:0.82707429\n"
          ]
        },
        {
          "output_type": "stream",
          "name": "stderr",
          "text": [
            " 20%|██        | 1/5 [00:00<00:01,  2.60it/s, loss=-.856]"
          ]
        },
        {
          "output_type": "stream",
          "name": "stdout",
          "text": [
            "Dice score:0.84526318\n"
          ]
        },
        {
          "output_type": "stream",
          "name": "stderr",
          "text": [
            " 40%|████      | 2/5 [00:00<00:01,  2.60it/s, loss=-1]"
          ]
        },
        {
          "output_type": "stream",
          "name": "stdout",
          "text": [
            "Dice score:0.82859218\n"
          ]
        },
        {
          "output_type": "stream",
          "name": "stderr",
          "text": [
            " 60%|██████    | 3/5 [00:01<00:00,  2.59it/s, loss=-1.12]"
          ]
        },
        {
          "output_type": "stream",
          "name": "stdout",
          "text": [
            "Dice score:0.85025680\n"
          ]
        },
        {
          "output_type": "stream",
          "name": "stderr",
          "text": [
            " 80%|████████  | 4/5 [00:01<00:00,  2.59it/s, loss=-1.33]"
          ]
        },
        {
          "output_type": "stream",
          "name": "stdout",
          "text": [
            "Dice score:0.83044016\n"
          ]
        },
        {
          "output_type": "stream",
          "name": "stderr",
          "text": [
            "100%|██████████| 5/5 [00:01<00:00,  2.59it/s, loss=-1.54]"
          ]
        },
        {
          "output_type": "stream",
          "name": "stdout",
          "text": [
            "Dice score:0.82368386\n"
          ]
        },
        {
          "output_type": "stream",
          "name": "stderr",
          "text": [
            "\n"
          ]
        },
        {
          "output_type": "stream",
          "name": "stdout",
          "text": [
            "Got 1469263.0/1646880 with acc 89.21493530\n",
            "Accuracy = [89.2149429321289]\n"
          ]
        },
        {
          "output_type": "stream",
          "name": "stderr",
          "text": [
            "\r  0%|          | 0/5 [00:00<?, ?it/s]"
          ]
        },
        {
          "output_type": "stream",
          "name": "stdout",
          "text": [
            "Dice score:0.84264332\n"
          ]
        },
        {
          "output_type": "stream",
          "name": "stderr",
          "text": [
            " 40%|████      | 2/5 [00:00<00:01,  2.63it/s, loss=-2.14]"
          ]
        },
        {
          "output_type": "stream",
          "name": "stdout",
          "text": [
            "Dice score:0.82522821\n"
          ]
        },
        {
          "output_type": "stream",
          "name": "stderr",
          "text": [
            " 60%|██████    | 3/5 [00:01<00:00,  2.62it/s, loss=-2.53]"
          ]
        },
        {
          "output_type": "stream",
          "name": "stdout",
          "text": [
            "Dice score:0.84766018\n"
          ]
        },
        {
          "output_type": "stream",
          "name": "stderr",
          "text": [
            " 80%|████████  | 4/5 [00:01<00:00,  2.61it/s, loss=-3.12]"
          ]
        },
        {
          "output_type": "stream",
          "name": "stdout",
          "text": [
            "Dice score:0.82707000\n"
          ]
        },
        {
          "output_type": "stream",
          "name": "stderr",
          "text": [
            "100%|██████████| 5/5 [00:01<00:00,  2.61it/s, loss=-3.9]\n"
          ]
        },
        {
          "output_type": "stream",
          "name": "stdout",
          "text": [
            "Dice score:0.81996137\n"
          ]
        },
        {
          "output_type": "stream",
          "name": "stderr",
          "text": [
            " 20%|██        | 1/5 [00:00<00:01,  2.66it/s, loss=-5.03]"
          ]
        },
        {
          "output_type": "stream",
          "name": "stdout",
          "text": [
            "Dice score:0.83976173\n"
          ]
        },
        {
          "output_type": "stream",
          "name": "stderr",
          "text": [
            " 40%|████      | 2/5 [00:00<00:01,  2.63it/s, loss=-7.03]"
          ]
        },
        {
          "output_type": "stream",
          "name": "stdout",
          "text": [
            "Dice score:0.82133681\n"
          ]
        },
        {
          "output_type": "stream",
          "name": "stderr",
          "text": [
            " 60%|██████    | 3/5 [00:01<00:00,  2.60it/s, loss=-10.8]"
          ]
        },
        {
          "output_type": "stream",
          "name": "stdout",
          "text": [
            "Dice score:0.84456283\n"
          ]
        },
        {
          "output_type": "stream",
          "name": "stderr",
          "text": [
            " 80%|████████  | 4/5 [00:01<00:00,  2.59it/s, loss=-19.6]"
          ]
        },
        {
          "output_type": "stream",
          "name": "stdout",
          "text": [
            "Dice score:0.82304418\n"
          ]
        },
        {
          "output_type": "stream",
          "name": "stderr",
          "text": [
            "100%|██████████| 5/5 [00:01<00:00,  2.58it/s, loss=-49.6]\n"
          ]
        },
        {
          "output_type": "stream",
          "name": "stdout",
          "text": [
            "Dice score:0.81531888\n"
          ]
        },
        {
          "output_type": "stream",
          "name": "stderr",
          "text": [
            " 20%|██        | 1/5 [00:00<00:01,  2.61it/s, loss=-436]"
          ]
        },
        {
          "output_type": "stream",
          "name": "stdout",
          "text": [
            "Dice score:0.83437598\n"
          ]
        },
        {
          "output_type": "stream",
          "name": "stderr",
          "text": [
            " 40%|████      | 2/5 [00:00<00:01,  2.63it/s, loss=nan]"
          ]
        },
        {
          "output_type": "stream",
          "name": "stdout",
          "text": [
            "Dice score:nan\n"
          ]
        },
        {
          "output_type": "stream",
          "name": "stderr",
          "text": [
            " 60%|██████    | 3/5 [00:01<00:00,  2.67it/s, loss=nan]"
          ]
        },
        {
          "output_type": "stream",
          "name": "stdout",
          "text": [
            "Dice score:nan\n"
          ]
        },
        {
          "output_type": "stream",
          "name": "stderr",
          "text": [
            " 80%|████████  | 4/5 [00:01<00:00,  2.69it/s, loss=nan]"
          ]
        },
        {
          "output_type": "stream",
          "name": "stdout",
          "text": [
            "Dice score:nan\n"
          ]
        },
        {
          "output_type": "stream",
          "name": "stderr",
          "text": [
            "100%|██████████| 5/5 [00:01<00:00,  2.68it/s, loss=nan]\n"
          ]
        },
        {
          "output_type": "stream",
          "name": "stdout",
          "text": [
            "Dice score:nan\n"
          ]
        },
        {
          "output_type": "stream",
          "name": "stderr",
          "text": [
            " 20%|██        | 1/5 [00:00<00:01,  2.73it/s, loss=nan]"
          ]
        },
        {
          "output_type": "stream",
          "name": "stdout",
          "text": [
            "Dice score:nan\n"
          ]
        },
        {
          "output_type": "stream",
          "name": "stderr",
          "text": [
            " 40%|████      | 2/5 [00:00<00:01,  2.73it/s, loss=nan]"
          ]
        },
        {
          "output_type": "stream",
          "name": "stdout",
          "text": [
            "Dice score:nan\n"
          ]
        },
        {
          "output_type": "stream",
          "name": "stderr",
          "text": [
            " 60%|██████    | 3/5 [00:01<00:00,  2.71it/s, loss=nan]"
          ]
        },
        {
          "output_type": "stream",
          "name": "stdout",
          "text": [
            "Dice score:nan\n"
          ]
        },
        {
          "output_type": "stream",
          "name": "stderr",
          "text": [
            " 80%|████████  | 4/5 [00:01<00:00,  2.70it/s, loss=nan]"
          ]
        },
        {
          "output_type": "stream",
          "name": "stdout",
          "text": [
            "Dice score:nan\n"
          ]
        },
        {
          "output_type": "stream",
          "name": "stderr",
          "text": [
            "100%|██████████| 5/5 [00:01<00:00,  2.69it/s, loss=nan]\n"
          ]
        },
        {
          "output_type": "stream",
          "name": "stdout",
          "text": [
            "Dice score:nan\n"
          ]
        },
        {
          "output_type": "stream",
          "name": "stderr",
          "text": [
            " 20%|██        | 1/5 [00:00<00:01,  2.74it/s, loss=nan]"
          ]
        },
        {
          "output_type": "stream",
          "name": "stdout",
          "text": [
            "Dice score:nan\n"
          ]
        },
        {
          "output_type": "stream",
          "name": "stderr",
          "text": [
            " 40%|████      | 2/5 [00:00<00:01,  2.72it/s, loss=nan]"
          ]
        },
        {
          "output_type": "stream",
          "name": "stdout",
          "text": [
            "Dice score:nan\n"
          ]
        },
        {
          "output_type": "stream",
          "name": "stderr",
          "text": [
            " 60%|██████    | 3/5 [00:01<00:00,  2.71it/s, loss=nan]"
          ]
        },
        {
          "output_type": "stream",
          "name": "stdout",
          "text": [
            "Dice score:nan\n"
          ]
        },
        {
          "output_type": "stream",
          "name": "stderr",
          "text": [
            " 80%|████████  | 4/5 [00:01<00:00,  2.71it/s, loss=nan]"
          ]
        },
        {
          "output_type": "stream",
          "name": "stdout",
          "text": [
            "Dice score:nan\n"
          ]
        },
        {
          "output_type": "stream",
          "name": "stderr",
          "text": [
            "100%|██████████| 5/5 [00:01<00:00,  2.70it/s, loss=nan]"
          ]
        },
        {
          "output_type": "stream",
          "name": "stdout",
          "text": [
            "Dice score:nan\n"
          ]
        },
        {
          "output_type": "stream",
          "name": "stderr",
          "text": [
            "\n"
          ]
        },
        {
          "output_type": "stream",
          "name": "stdout",
          "text": [
            "Got 1469263.0/1646880 with acc 89.21493530\n",
            "Accuracy = [89.2149429321289]\n"
          ]
        },
        {
          "output_type": "stream",
          "name": "stderr",
          "text": [
            "\r  0%|          | 0/5 [00:00<?, ?it/s]"
          ]
        },
        {
          "output_type": "stream",
          "name": "stdout",
          "text": [
            "Dice score:nan\n"
          ]
        },
        {
          "output_type": "stream",
          "name": "stderr",
          "text": [
            " 40%|████      | 2/5 [00:00<00:01,  2.75it/s, loss=nan]"
          ]
        },
        {
          "output_type": "stream",
          "name": "stdout",
          "text": [
            "Dice score:nan\n"
          ]
        },
        {
          "output_type": "stream",
          "name": "stderr",
          "text": [
            " 60%|██████    | 3/5 [00:01<00:00,  2.72it/s, loss=nan]"
          ]
        },
        {
          "output_type": "stream",
          "name": "stdout",
          "text": [
            "Dice score:nan\n"
          ]
        },
        {
          "output_type": "stream",
          "name": "stderr",
          "text": [
            " 80%|████████  | 4/5 [00:01<00:00,  2.72it/s, loss=nan]"
          ]
        },
        {
          "output_type": "stream",
          "name": "stdout",
          "text": [
            "Dice score:nan\n"
          ]
        },
        {
          "output_type": "stream",
          "name": "stderr",
          "text": [
            "100%|██████████| 5/5 [00:01<00:00,  2.71it/s, loss=nan]\n"
          ]
        },
        {
          "output_type": "stream",
          "name": "stdout",
          "text": [
            "Dice score:nan\n"
          ]
        },
        {
          "output_type": "stream",
          "name": "stderr",
          "text": [
            " 20%|██        | 1/5 [00:00<00:01,  2.75it/s, loss=nan]"
          ]
        },
        {
          "output_type": "stream",
          "name": "stdout",
          "text": [
            "Dice score:nan\n"
          ]
        },
        {
          "output_type": "stream",
          "name": "stderr",
          "text": [
            " 40%|████      | 2/5 [00:00<00:01,  2.71it/s, loss=nan]"
          ]
        },
        {
          "output_type": "stream",
          "name": "stdout",
          "text": [
            "Dice score:nan\n"
          ]
        },
        {
          "output_type": "stream",
          "name": "stderr",
          "text": [
            " 60%|██████    | 3/5 [00:01<00:00,  2.68it/s, loss=nan]"
          ]
        },
        {
          "output_type": "stream",
          "name": "stdout",
          "text": [
            "Dice score:nan\n"
          ]
        },
        {
          "output_type": "stream",
          "name": "stderr",
          "text": [
            " 80%|████████  | 4/5 [00:01<00:00,  2.68it/s, loss=nan]"
          ]
        },
        {
          "output_type": "stream",
          "name": "stdout",
          "text": [
            "Dice score:nan\n"
          ]
        },
        {
          "output_type": "stream",
          "name": "stderr",
          "text": [
            "100%|██████████| 5/5 [00:01<00:00,  2.68it/s, loss=nan]\n"
          ]
        },
        {
          "output_type": "stream",
          "name": "stdout",
          "text": [
            "Dice score:nan\n"
          ]
        },
        {
          "output_type": "stream",
          "name": "stderr",
          "text": [
            " 20%|██        | 1/5 [00:00<00:01,  2.74it/s, loss=nan]"
          ]
        },
        {
          "output_type": "stream",
          "name": "stdout",
          "text": [
            "Dice score:nan\n"
          ]
        },
        {
          "output_type": "stream",
          "name": "stderr",
          "text": [
            " 40%|████      | 2/5 [00:00<00:01,  2.71it/s, loss=nan]"
          ]
        },
        {
          "output_type": "stream",
          "name": "stdout",
          "text": [
            "Dice score:nan\n"
          ]
        },
        {
          "output_type": "stream",
          "name": "stderr",
          "text": [
            " 60%|██████    | 3/5 [00:01<00:00,  2.72it/s, loss=nan]"
          ]
        },
        {
          "output_type": "stream",
          "name": "stdout",
          "text": [
            "Dice score:nan\n"
          ]
        },
        {
          "output_type": "stream",
          "name": "stderr",
          "text": [
            " 80%|████████  | 4/5 [00:01<00:00,  2.72it/s, loss=nan]"
          ]
        },
        {
          "output_type": "stream",
          "name": "stdout",
          "text": [
            "Dice score:nan\n"
          ]
        },
        {
          "output_type": "stream",
          "name": "stderr",
          "text": [
            "100%|██████████| 5/5 [00:01<00:00,  2.71it/s, loss=nan]\n"
          ]
        },
        {
          "output_type": "stream",
          "name": "stdout",
          "text": [
            "Dice score:nan\n"
          ]
        },
        {
          "output_type": "stream",
          "name": "stderr",
          "text": [
            " 20%|██        | 1/5 [00:00<00:01,  2.73it/s, loss=nan]"
          ]
        },
        {
          "output_type": "stream",
          "name": "stdout",
          "text": [
            "Dice score:nan\n"
          ]
        },
        {
          "output_type": "stream",
          "name": "stderr",
          "text": [
            " 40%|████      | 2/5 [00:00<00:01,  2.73it/s, loss=nan]"
          ]
        },
        {
          "output_type": "stream",
          "name": "stdout",
          "text": [
            "Dice score:nan\n"
          ]
        },
        {
          "output_type": "stream",
          "name": "stderr",
          "text": [
            " 60%|██████    | 3/5 [00:01<00:00,  2.71it/s, loss=nan]"
          ]
        },
        {
          "output_type": "stream",
          "name": "stdout",
          "text": [
            "Dice score:nan\n"
          ]
        },
        {
          "output_type": "stream",
          "name": "stderr",
          "text": [
            " 80%|████████  | 4/5 [00:01<00:00,  2.69it/s, loss=nan]"
          ]
        },
        {
          "output_type": "stream",
          "name": "stdout",
          "text": [
            "Dice score:nan\n"
          ]
        },
        {
          "output_type": "stream",
          "name": "stderr",
          "text": [
            "100%|██████████| 5/5 [00:01<00:00,  2.69it/s, loss=nan]\n"
          ]
        },
        {
          "output_type": "stream",
          "name": "stdout",
          "text": [
            "Dice score:nan\n"
          ]
        },
        {
          "output_type": "stream",
          "name": "stderr",
          "text": [
            " 20%|██        | 1/5 [00:00<00:01,  2.76it/s, loss=nan]"
          ]
        },
        {
          "output_type": "stream",
          "name": "stdout",
          "text": [
            "Dice score:nan\n"
          ]
        },
        {
          "output_type": "stream",
          "name": "stderr",
          "text": [
            " 40%|████      | 2/5 [00:00<00:01,  2.72it/s, loss=nan]"
          ]
        },
        {
          "output_type": "stream",
          "name": "stdout",
          "text": [
            "Dice score:nan\n"
          ]
        },
        {
          "output_type": "stream",
          "name": "stderr",
          "text": [
            " 60%|██████    | 3/5 [00:01<00:00,  2.69it/s, loss=nan]"
          ]
        },
        {
          "output_type": "stream",
          "name": "stdout",
          "text": [
            "Dice score:nan\n"
          ]
        },
        {
          "output_type": "stream",
          "name": "stderr",
          "text": [
            " 80%|████████  | 4/5 [00:01<00:00,  2.69it/s, loss=nan]"
          ]
        },
        {
          "output_type": "stream",
          "name": "stdout",
          "text": [
            "Dice score:nan\n"
          ]
        },
        {
          "output_type": "stream",
          "name": "stderr",
          "text": [
            "100%|██████████| 5/5 [00:01<00:00,  2.69it/s, loss=nan]"
          ]
        },
        {
          "output_type": "stream",
          "name": "stdout",
          "text": [
            "Dice score:nan\n"
          ]
        },
        {
          "output_type": "stream",
          "name": "stderr",
          "text": [
            "\n"
          ]
        },
        {
          "output_type": "stream",
          "name": "stdout",
          "text": [
            "Got 1469263.0/1646880 with acc 89.21493530\n",
            "Accuracy = [89.2149429321289]\n"
          ]
        },
        {
          "output_type": "stream",
          "name": "stderr",
          "text": [
            "\r  0%|          | 0/5 [00:00<?, ?it/s]"
          ]
        },
        {
          "output_type": "stream",
          "name": "stdout",
          "text": [
            "Dice score:nan\n"
          ]
        },
        {
          "output_type": "stream",
          "name": "stderr",
          "text": [
            " 40%|████      | 2/5 [00:00<00:01,  2.74it/s, loss=nan]"
          ]
        },
        {
          "output_type": "stream",
          "name": "stdout",
          "text": [
            "Dice score:nan\n"
          ]
        },
        {
          "output_type": "stream",
          "name": "stderr",
          "text": [
            " 60%|██████    | 3/5 [00:01<00:00,  2.70it/s, loss=nan]"
          ]
        },
        {
          "output_type": "stream",
          "name": "stdout",
          "text": [
            "Dice score:nan\n"
          ]
        },
        {
          "output_type": "stream",
          "name": "stderr",
          "text": [
            " 80%|████████  | 4/5 [00:01<00:00,  2.70it/s, loss=nan]"
          ]
        },
        {
          "output_type": "stream",
          "name": "stdout",
          "text": [
            "Dice score:nan\n"
          ]
        },
        {
          "output_type": "stream",
          "name": "stderr",
          "text": [
            "100%|██████████| 5/5 [00:01<00:00,  2.70it/s, loss=nan]\n"
          ]
        },
        {
          "output_type": "stream",
          "name": "stdout",
          "text": [
            "Dice score:nan\n"
          ]
        },
        {
          "output_type": "stream",
          "name": "stderr",
          "text": [
            " 20%|██        | 1/5 [00:00<00:01,  2.75it/s, loss=nan]"
          ]
        },
        {
          "output_type": "stream",
          "name": "stdout",
          "text": [
            "Dice score:nan\n"
          ]
        },
        {
          "output_type": "stream",
          "name": "stderr",
          "text": [
            " 40%|████      | 2/5 [00:00<00:01,  2.72it/s, loss=nan]"
          ]
        },
        {
          "output_type": "stream",
          "name": "stdout",
          "text": [
            "Dice score:nan\n"
          ]
        },
        {
          "output_type": "stream",
          "name": "stderr",
          "text": [
            " 60%|██████    | 3/5 [00:01<00:00,  2.72it/s, loss=nan]"
          ]
        },
        {
          "output_type": "stream",
          "name": "stdout",
          "text": [
            "Dice score:nan\n"
          ]
        },
        {
          "output_type": "stream",
          "name": "stderr",
          "text": [
            " 80%|████████  | 4/5 [00:01<00:00,  2.71it/s, loss=nan]"
          ]
        },
        {
          "output_type": "stream",
          "name": "stdout",
          "text": [
            "Dice score:nan\n"
          ]
        },
        {
          "output_type": "stream",
          "name": "stderr",
          "text": [
            "100%|██████████| 5/5 [00:01<00:00,  2.70it/s, loss=nan]\n"
          ]
        },
        {
          "output_type": "stream",
          "name": "stdout",
          "text": [
            "Dice score:nan\n"
          ]
        },
        {
          "output_type": "stream",
          "name": "stderr",
          "text": [
            " 20%|██        | 1/5 [00:00<00:01,  2.71it/s, loss=nan]"
          ]
        },
        {
          "output_type": "stream",
          "name": "stdout",
          "text": [
            "Dice score:nan\n"
          ]
        },
        {
          "output_type": "stream",
          "name": "stderr",
          "text": [
            " 40%|████      | 2/5 [00:00<00:01,  2.70it/s, loss=nan]"
          ]
        },
        {
          "output_type": "stream",
          "name": "stdout",
          "text": [
            "Dice score:nan\n"
          ]
        },
        {
          "output_type": "stream",
          "name": "stderr",
          "text": [
            " 60%|██████    | 3/5 [00:01<00:00,  2.70it/s, loss=nan]"
          ]
        },
        {
          "output_type": "stream",
          "name": "stdout",
          "text": [
            "Dice score:nan\n"
          ]
        },
        {
          "output_type": "stream",
          "name": "stderr",
          "text": [
            " 80%|████████  | 4/5 [00:01<00:00,  2.70it/s, loss=nan]"
          ]
        },
        {
          "output_type": "stream",
          "name": "stdout",
          "text": [
            "Dice score:nan\n"
          ]
        },
        {
          "output_type": "stream",
          "name": "stderr",
          "text": [
            "100%|██████████| 5/5 [00:01<00:00,  2.69it/s, loss=nan]\n"
          ]
        },
        {
          "output_type": "stream",
          "name": "stdout",
          "text": [
            "Dice score:nan\n"
          ]
        },
        {
          "output_type": "stream",
          "name": "stderr",
          "text": [
            " 20%|██        | 1/5 [00:00<00:01,  2.74it/s, loss=nan]"
          ]
        },
        {
          "output_type": "stream",
          "name": "stdout",
          "text": [
            "Dice score:nan\n"
          ]
        },
        {
          "output_type": "stream",
          "name": "stderr",
          "text": [
            " 40%|████      | 2/5 [00:00<00:01,  2.72it/s, loss=nan]"
          ]
        },
        {
          "output_type": "stream",
          "name": "stdout",
          "text": [
            "Dice score:nan\n"
          ]
        },
        {
          "output_type": "stream",
          "name": "stderr",
          "text": [
            " 60%|██████    | 3/5 [00:01<00:00,  2.71it/s, loss=nan]"
          ]
        },
        {
          "output_type": "stream",
          "name": "stdout",
          "text": [
            "Dice score:nan\n"
          ]
        },
        {
          "output_type": "stream",
          "name": "stderr",
          "text": [
            " 80%|████████  | 4/5 [00:01<00:00,  2.71it/s, loss=nan]"
          ]
        },
        {
          "output_type": "stream",
          "name": "stdout",
          "text": [
            "Dice score:nan\n"
          ]
        },
        {
          "output_type": "stream",
          "name": "stderr",
          "text": [
            "100%|██████████| 5/5 [00:01<00:00,  2.69it/s, loss=nan]\n"
          ]
        },
        {
          "output_type": "stream",
          "name": "stdout",
          "text": [
            "Dice score:nan\n"
          ]
        },
        {
          "output_type": "stream",
          "name": "stderr",
          "text": [
            " 20%|██        | 1/5 [00:00<00:01,  2.74it/s, loss=nan]"
          ]
        },
        {
          "output_type": "stream",
          "name": "stdout",
          "text": [
            "Dice score:nan\n"
          ]
        },
        {
          "output_type": "stream",
          "name": "stderr",
          "text": [
            " 40%|████      | 2/5 [00:00<00:01,  2.72it/s, loss=nan]"
          ]
        },
        {
          "output_type": "stream",
          "name": "stdout",
          "text": [
            "Dice score:nan\n"
          ]
        },
        {
          "output_type": "stream",
          "name": "stderr",
          "text": [
            " 60%|██████    | 3/5 [00:01<00:00,  2.72it/s, loss=nan]"
          ]
        },
        {
          "output_type": "stream",
          "name": "stdout",
          "text": [
            "Dice score:nan\n"
          ]
        },
        {
          "output_type": "stream",
          "name": "stderr",
          "text": [
            " 80%|████████  | 4/5 [00:01<00:00,  2.70it/s, loss=nan]"
          ]
        },
        {
          "output_type": "stream",
          "name": "stdout",
          "text": [
            "Dice score:nan\n"
          ]
        },
        {
          "output_type": "stream",
          "name": "stderr",
          "text": [
            "100%|██████████| 5/5 [00:01<00:00,  2.71it/s, loss=nan]"
          ]
        },
        {
          "output_type": "stream",
          "name": "stdout",
          "text": [
            "Dice score:nan\n"
          ]
        },
        {
          "output_type": "stream",
          "name": "stderr",
          "text": [
            "\n"
          ]
        },
        {
          "output_type": "stream",
          "name": "stdout",
          "text": [
            "Got 1469263.0/1646880 with acc 89.21493530\n",
            "Accuracy = [89.2149429321289]\n"
          ]
        }
      ]
    },
    {
      "cell_type": "code",
      "source": [
        ""
      ],
      "metadata": {
        "id": "lBwZKpj9ARRB"
      },
      "execution_count": null,
      "outputs": []
    },
    {
      "cell_type": "markdown",
      "source": [
        ""
      ],
      "metadata": {
        "id": "M4M6uWV1Aq8a"
      }
    },
    {
      "cell_type": "code",
      "source": [
        ""
      ],
      "metadata": {
        "id": "rn5jA5x96bVf"
      },
      "execution_count": null,
      "outputs": []
    }
  ]
}